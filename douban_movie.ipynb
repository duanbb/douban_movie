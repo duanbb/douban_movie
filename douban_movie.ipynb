{
 "cells": [
  {
   "cell_type": "code",
   "execution_count": 1,
   "metadata": {},
   "outputs": [],
   "source": [
    "from bs4 import BeautifulSoup\n",
    "import requests\n",
    "import pandas as pd"
   ]
  },
  {
   "cell_type": "code",
   "execution_count": 2,
   "metadata": {},
   "outputs": [],
   "source": [
    "HEADER = {\n",
    "    'User-Agent': 'Mozilla/5.0 (Windows NT 10.0; Win64; x64) AppleWebKit/537.36 (KHTML, like Gecko) Chrome/61.0.3163.100 Safari/537.36'\n",
    "}\n",
    "url_list = [\n",
    "    'https://movie.douban.com/people/98909222/wish?start=0&sort=time&rating=all&filter=all&mode=list',\n",
    "    'https://movie.douban.com/people/98909222/wish?start=30&sort=time&rating=all&filter=all&mode=list'\n",
    "]"
   ]
  },
  {
   "cell_type": "code",
   "execution_count": 3,
   "metadata": {},
   "outputs": [],
   "source": [
    "def get_movie_info(movie_url):\n",
    "    r_movie = requests.get(movie_url, headers=HEADER)\n",
    "    soup_movie = BeautifulSoup(r_movie.text, 'html.parser')\n",
    "    return {\n",
    "        'name': str(soup_movie.find_all('span', {'property': 'v:itemreviewed'})[0].contents[0]),\n",
    "        'year': int(soup_movie.find_all('span', {'class': 'year'})[0].contents[0].replace('(', '').replace(')', '')),\n",
    "        'rating': float(soup_movie.find_all('strong', {'class': 'll rating_num', 'property': 'v:average'})[0].contents[0]),\n",
    "        'votes': int(soup_movie.find_all('span', {'property': 'v:votes'})[0].contents[0])\n",
    "    }"
   ]
  },
  {
   "cell_type": "code",
   "execution_count": 4,
   "metadata": {},
   "outputs": [],
   "source": [
    "def get_page_info(url):\n",
    "    r_page = requests.get(url, headers=HEADER)\n",
    "    soup_page = BeautifulSoup(r_page.text, 'html.parser')  # 'lxml'\n",
    "    movies = soup_page.find_all('div', {'class': 'title'})\n",
    "    for i in range(0, len(movies)):\n",
    "        movies_list.append(get_movie_info(movies[i].contents[1].attrs['href']))\n",
    "        print('No. ' + str(i))\n",
    "    del i"
   ]
  },
  {
   "cell_type": "code",
   "execution_count": null,
   "metadata": {
    "scrolled": true
   },
   "outputs": [],
   "source": [
    "movies_list = []\n",
    "for i in range(0, len(url_list)):\n",
    "    get_page_info(url_list[i])\n",
    "del i"
   ]
  },
  {
   "cell_type": "code",
   "execution_count": null,
   "metadata": {},
   "outputs": [],
   "source": [
    "movies_df = pd.DataFrame(data=movies_list)\n",
    "movies_df['rating_year'] = movies_df['rating'] * movies_df['year']\n",
    "movies_df['rating_votes'] = movies_df['rating'] * movies_df['votes']\n",
    "movies_df['rating_year_votes'] = movies_df['rating'] * movies_df['year'] * movies_df['votes']"
   ]
  },
  {
   "cell_type": "code",
   "execution_count": null,
   "metadata": {},
   "outputs": [],
   "source": [
    "movies_df.sort_values('rating_year_votes', ascending=False)"
   ]
  },
  {
   "cell_type": "code",
   "execution_count": null,
   "metadata": {},
   "outputs": [],
   "source": []
  }
 ],
 "metadata": {
  "kernelspec": {
   "display_name": "Python 3",
   "language": "python",
   "name": "python3"
  },
  "language_info": {
   "codemirror_mode": {
    "name": "ipython",
    "version": 3
   },
   "file_extension": ".py",
   "mimetype": "text/x-python",
   "name": "python",
   "nbconvert_exporter": "python",
   "pygments_lexer": "ipython3",
   "version": "3.7.6"
  }
 },
 "nbformat": 4,
 "nbformat_minor": 4
}
